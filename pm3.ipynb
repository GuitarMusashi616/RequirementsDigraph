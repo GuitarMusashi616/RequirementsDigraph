{
 "cells": [
  {
   "cell_type": "code",
   "execution_count": 4,
   "metadata": {},
   "outputs": [],
   "source": [
    "import pandas as pd"
   ]
  },
  {
   "cell_type": "code",
   "execution_count": 5,
   "metadata": {},
   "outputs": [],
   "source": [
    "df = pd.DataFrame({\n",
    "    \"Requirement\":[],\n",
    "    \"Description\":[],\n",
    "    \"Priority\":[],\n",
    "    \"Originally Requested By\":[],\n",
    "    \"Also Requested By\":[],\n",
    "    \"Estimated Difficulty\":[],\n",
    "})"
   ]
  },
  {
   "cell_type": "code",
   "execution_count": 8,
   "metadata": {},
   "outputs": [],
   "source": [
    "class DFBuilder:\n",
    "    def __init__(self, cols):\n",
    "        self.dic = {}\n",
    "        for col in cols:\n",
    "            self.dic[col] = []\n",
    "        \n",
    "    def build(self):\n",
    "        return pd.DataFrame(self.dic)\n",
    "\n",
    "    def add(self, keys, val):\n",
    "        for key in keys:\n",
    "            self.dic[key].append(val)\n"
   ]
  },
  {
   "cell_type": "code",
   "execution_count": 9,
   "metadata": {},
   "outputs": [],
   "source": [
    "dfb = DFBuilder([\"Requirement\", \"Description\", \"Priority\", \"Originally Requested By\", \"Also Requested By\", \"Estimated Difficulty\"])"
   ]
  },
  {
   "cell_type": "code",
   "execution_count": 10,
   "metadata": {},
   "outputs": [
    {
     "ename": "AttributeError",
     "evalue": "'DFBuilder' object has no attribute 'dic'",
     "output_type": "error",
     "traceback": [
      "\u001b[1;31m---------------------------------------------------------------------------\u001b[0m",
      "\u001b[1;31mAttributeError\u001b[0m                            Traceback (most recent call last)",
      "\u001b[1;32mc:\\Users\\awilliams\\Code\\notebooks\\pm3 requirements\\pm3.ipynb Cell 5\u001b[0m in \u001b[0;36m<cell line: 1>\u001b[1;34m()\u001b[0m\n\u001b[1;32m----> <a href='vscode-notebook-cell:/c%3A/Users/awilliams/Code/notebooks/pm3%20requirements/pm3.ipynb#W4sZmlsZQ%3D%3D?line=0'>1</a>\u001b[0m dfb\u001b[39m.\u001b[39;49mbuild()\n",
      "\u001b[1;32mc:\\Users\\awilliams\\Code\\notebooks\\pm3 requirements\\pm3.ipynb Cell 5\u001b[0m in \u001b[0;36mDFBuilder.build\u001b[1;34m(self)\u001b[0m\n\u001b[0;32m      <a href='vscode-notebook-cell:/c%3A/Users/awilliams/Code/notebooks/pm3%20requirements/pm3.ipynb#W4sZmlsZQ%3D%3D?line=6'>7</a>\u001b[0m \u001b[39mdef\u001b[39;00m \u001b[39mbuild\u001b[39m(\u001b[39mself\u001b[39m):\n\u001b[1;32m----> <a href='vscode-notebook-cell:/c%3A/Users/awilliams/Code/notebooks/pm3%20requirements/pm3.ipynb#W4sZmlsZQ%3D%3D?line=7'>8</a>\u001b[0m     \u001b[39mreturn\u001b[39;00m pd\u001b[39m.\u001b[39mDataFrame(\u001b[39mself\u001b[39;49m\u001b[39m.\u001b[39;49mdic)\n",
      "\u001b[1;31mAttributeError\u001b[0m: 'DFBuilder' object has no attribute 'dic'"
     ]
    }
   ],
   "source": [
    "dfb.build()"
   ]
  },
  {
   "cell_type": "code",
   "execution_count": null,
   "metadata": {},
   "outputs": [],
   "source": []
  }
 ],
 "metadata": {
  "kernelspec": {
   "display_name": "Python 3.9.12 ('base')",
   "language": "python",
   "name": "python3"
  },
  "language_info": {
   "codemirror_mode": {
    "name": "ipython",
    "version": 3
   },
   "file_extension": ".py",
   "mimetype": "text/x-python",
   "name": "python",
   "nbconvert_exporter": "python",
   "pygments_lexer": "ipython3",
   "version": "3.9.12"
  },
  "orig_nbformat": 4,
  "vscode": {
   "interpreter": {
    "hash": "ee039cee898ad095d393d9bd4bfb0644fade5ecbafd69e8f77d016238305307c"
   }
  }
 },
 "nbformat": 4,
 "nbformat_minor": 2
}
